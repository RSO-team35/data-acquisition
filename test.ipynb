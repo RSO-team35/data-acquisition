{
 "cells": [
  {
   "cell_type": "code",
   "execution_count": null,
   "metadata": {},
   "outputs": [],
   "source": [
    "## test external apis"
   ]
  },
  {
   "cell_type": "code",
   "execution_count": 2,
   "metadata": {},
   "outputs": [],
   "source": [
    "import requests\n",
    "from bs4 import BeautifulSoup\n",
    "from lxml import etree as et\n",
    "import time\n",
    "import random\n",
    "import csv\n",
    "\n",
    "header = {\n",
    "    \"User-Agent\": \"Mozilla/5.0 (Windows NT 10.0; Win64; x64) AppleWebKit/537.36 (KHTML, like Gecko) Chrome/81.0.4044.138 Safari/537.36\",\n",
    "    'Accept': '*/*', 'Accept-Encoding': 'gzip, deflate, br', 'Accept-Language': 'en-GB,en-US;q=0.9,en;q=0.8'\n",
    "}"
   ]
  },
  {
   "cell_type": "code",
   "execution_count": 3,
   "metadata": {},
   "outputs": [],
   "source": [
    "amazon_urls = [\"https://www.amazon.de/-/en/Gaming-GeForce-Extreme-NVIDIA-ZT-A30910B-10P/dp/B09X3N1W96/ref=sr_1_omk_4?crid=3BCNFT7XZMI0J&keywords=3090&qid=1667806991&sprefix=3090%2Caps%2C134&sr=8-4\"\n",
    "               ]"
   ]
  },
  {
   "cell_type": "code",
   "execution_count": 6,
   "metadata": {},
   "outputs": [],
   "source": [
    "def get_amazon_price(dom):\n",
    "\n",
    "    try:\n",
    "        price = dom.xpath('//span[@class=\"a-offscreen\"]/text()')[0]\n",
    "        print(price)\n",
    "        price = price.replace(',', '').replace('€', '').replace('.00', '')\n",
    "        return int(price)\n",
    "    except Exception as e:\n",
    "        price = 'Not Available'\n",
    "        return None\n",
    "\n",
    "\n",
    "def get_product_name(dom):\n",
    "    try:\n",
    "        name = dom.xpath('//span[@id=\"productTitle\"]/text()')\n",
    "        [name.strip() for name in name]\n",
    "        return name[0]\n",
    "    except Exception as e:\n",
    "        name = 'Not Available'\n",
    "        return None"
   ]
  },
  {
   "cell_type": "code",
   "execution_count": 7,
   "metadata": {},
   "outputs": [
    {
     "name": "stdout",
     "output_type": "stream",
     "text": [
      "€1,607.00\n",
      "None         Zotac Gaming GeForce RTX 3090 Ti AMP Extreme Holo NVIDIA 24GB GDDR6X, ZT-A30910B-10P       \n"
     ]
    }
   ],
   "source": [
    "for product_url in amazon_urls:\n",
    "\n",
    "    response = requests.get(product_url, headers=header)\n",
    "    soup = BeautifulSoup(response.content, 'html.parser')\n",
    "    main_dom = et.HTML(str(soup))\n",
    "\n",
    "    price = get_amazon_price(main_dom)\n",
    "    product_name = get_product_name(main_dom)\n",
    "\n",
    "    print(price, product_name)\n",
    "\n"
   ]
  },
  {
   "cell_type": "code",
   "execution_count": null,
   "metadata": {},
   "outputs": [],
   "source": []
  }
 ],
 "metadata": {
  "kernelspec": {
   "display_name": "Python 3.8.10 ('env': venv)",
   "language": "python",
   "name": "python3"
  },
  "language_info": {
   "codemirror_mode": {
    "name": "ipython",
    "version": 3
   },
   "file_extension": ".py",
   "mimetype": "text/x-python",
   "name": "python",
   "nbconvert_exporter": "python",
   "pygments_lexer": "ipython3",
   "version": "3.8.10"
  },
  "orig_nbformat": 4,
  "vscode": {
   "interpreter": {
    "hash": "db877ba926a6762daf334f1b0c7dd07b779055c0e4a19ef634568b05ff9585ec"
   }
  }
 },
 "nbformat": 4,
 "nbformat_minor": 2
}
