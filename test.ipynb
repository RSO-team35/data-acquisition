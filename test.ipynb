{
 "cells": [
  {
   "cell_type": "code",
   "execution_count": 1,
   "metadata": {},
   "outputs": [],
   "source": [
    "## test external apis"
   ]
  },
  {
   "cell_type": "code",
   "execution_count": 33,
   "metadata": {},
   "outputs": [],
   "source": [
    "import requests\n",
    "from bs4 import BeautifulSoup\n",
    "import time\n",
    "import random\n",
    "import csv\n",
    "\n",
    "header = {\n",
    "    \"User-Agent\": \"Mozilla/5.0 (Windows NT 10.0; Win64; x64) AppleWebKit/537.36 (KHTML, like Gecko) Chrome/81.0.4044.138 Safari/537.36\",\n",
    "    'Accept': '*/*', 'Accept-Encoding': 'gzip, deflate, br', 'Accept-Language': 'en-GB,en-US;q=0.9,en;q=0.8'\n",
    "}"
   ]
  },
  {
   "cell_type": "code",
   "execution_count": 44,
   "metadata": {},
   "outputs": [],
   "source": [
    "amazon_urls = {\"3090 Ti\":\n",
    "                    {\n",
    "                        \"Zotac Gaming\": \"https://www.amazon.de/-/en/Gaming-GeForce-Extreme-NVIDIA-ZT-A30910B-10P/dp/B09X3N1W96/ref=sr_1_omk_4?crid=3BCNFT7XZMI0J&keywords=3090&qid=1667806991&sprefix=3090%2Caps%2C134&sr=8-4\",\n",
    "                    },\n",
    "                \"3090\": \n",
    "                    {\n",
    "                        \"ASUS TUF Gaming\": \"https://www.amazon.de/ASUS-TUF-RTX3090-O24G-GAMING-TUF-RTX3090-24G-GAMING/dp/B08HN5B8FJ?ref_=ast_sto_dp&th=1&psc=1\",\n",
    "                        \"ASUS ROG Strix\": \"https://www.amazon.de/-/en/ROG-STRIX-RTX3090-O24G-GAMING-ROG-STRIX-RTX3090-GAMING-Graphics-Card/dp/B08HN51T8Q?ref_=ast_sto_dp&th=1&psc=1\",\n",
    "                        \"Zotac AMP Extreme Holo\": \"https://www.amazon.de/Zotac-3090-Extreme-Holo-GDDR6X/dp/B0974YVB9D?ref_=ast_sto_dp\",\n",
    "                        \"Zotac Arctic Storm\": \"https://www.amazon.de/Zotac-3090-Arctic-Storm-ZT-A30900Q-30P/dp/B0966TC82X?ref_=ast_sto_dp&th=1\",\n",
    "                        \"Zotac Trinity OC\": \"https://www.amazon.de/Zotac-3090-Trinity-24GB-GDDR6X/dp/B08TZD9SH9?ref_=ast_sto_dp\",\n",
    "                        \"Gigabyte Gaming OC\": \"https://www.amazon.de/Gigabyte-GeForce-Gaming-GDDR6X-Graphics/dp/B08HLYQ9XL?ref_=ast_sto_dp\",\n",
    "                    },\n",
    "                \"3060\":\n",
    "                    {\n",
    "                        \"ASUS Phoenix\": \"https://www.amazon.de/Phoenix-Graphics-DisplayPort-PH-RTX3060-12G-V2-0GB4-M0NA10/dp/B0974XXKC1?ref_=ast_sto_dp\",\n",
    "                        \"ASUS TUF Gaming\": \"https://www.amazon.de/GeForce-RTX3060-Graphics-DisplayPort-TUF-RTX3060/dp/B0966689N3?ref_=ast_sto_dp\",\n",
    "                        \"Zotac Twin Edge OC\": \"https://www.amazon.de/Zotac-RTX3060-Twin-Edge-GDDR6/dp/B08WRK84PS?ref_=ast_sto_dp\",\n",
    "                        \"Zotac AMP White Edition\": \"https://www.amazon.de/Zotac-RTX3060-AMP-White-GDDR6/dp/B08WRV24YD?ref_=ast_sto_dp\",\n",
    "                        \"Gigabyte Gaming OC\": \"https://www.amazon.de/RTX3060-Gaming-GDDR6-2xHDMI-3xDP/dp/B08WB6R2K4?ref_=ast_sto_dp\", \n",
    "                        \"Gigabyte Eagle OC\": \"https://www.amazon.de/RTX3060-Eagle-GDDR6-2xHDMI-3xDP/dp/B08WBB3ZMJ?ref_=ast_sto_dp\",\n",
    "                    },\n",
    "                \"4090\":\n",
    "                    {\n",
    "                        \"Gigabyte Windforce\": \"https://www.amazon.de/Gigabyte-GeForce-Windforce-GDDR6-Express/dp/B0BHWCKZS9?ref_=ast_sto_dp\",\n",
    "                        \"Gigabyte Gaming OC\": \"https://www.amazon.de/Gigabyte-RTX4090-Gaming-GV-N4090GAMING-OC-24GD/dp/B0BH8MK76C?ref_=ast_sto_dp\",\n",
    "                    }\n",
    "                \n",
    "                }"
   ]
  },
  {
   "cell_type": "code",
   "execution_count": 45,
   "metadata": {},
   "outputs": [],
   "source": [
    "def get_amazon_price(dom):\n",
    "\n",
    "    try:\n",
    "        price = dom.xpath('//span[@class=\"a-offscreen\"]/text()')[0]\n",
    "        #print(price)\n",
    "        price = price.replace(',', '').replace('€', '')\n",
    "        return float(price)\n",
    "    except Exception as e:\n",
    "        price = 'Not Available'\n",
    "        return None\n",
    "\n",
    "\n",
    "def get_product_name(dom):\n",
    "    try:\n",
    "        name = dom.xpath('//span[@id=\"productTitle\"]/text()')\n",
    "        [name.strip() for name in name]\n",
    "        return name[0]\n",
    "    except Exception as e:\n",
    "        name = 'Not Available'\n",
    "        return None"
   ]
  },
  {
   "cell_type": "code",
   "execution_count": 49,
   "metadata": {},
   "outputs": [
    {
     "name": "stdout",
     "output_type": "stream",
     "text": [
      "3090 Ti\n",
      "    1604.02 - Zotac Gaming\n",
      "3090\n",
      "    899.0 - ASUS TUF Gaming\n",
      "    2111.0 - ASUS ROG Strix\n",
      "    1984.26 - Zotac AMP Extreme Holo\n",
      "    2.111 - Zotac Arctic Storm\n",
      "    1478.98 - Zotac Trinity OC\n",
      "    1659.0 - Gigabyte Gaming OC\n",
      "3060\n",
      "    413.32 - ASUS Phoenix\n",
      "    498.0 - ASUS TUF Gaming\n",
      "    428.0 - Zotac Twin Edge OC\n",
      "    539.41 - Zotac AMP White Edition\n",
      "    498.32 - Gigabyte Gaming OC\n",
      "    428.0 - Gigabyte Eagle OC\n",
      "4090\n",
      "    153.74 - Gigabyte Windforce\n",
      "    3499.99 - Gigabyte Gaming OC\n"
     ]
    }
   ],
   "source": [
    "from lxml import etree as et\n",
    "\n",
    "for product in amazon_urls:\n",
    "    print(f\"{product}\")\n",
    "    for type in amazon_urls[product]:\n",
    "        product_url = amazon_urls[product][type]\n",
    "        \n",
    "        response = requests.get(product_url, headers=header)\n",
    "        soup = BeautifulSoup(response.content, 'html.parser')\n",
    "        main_dom = et.HTML(str(soup))\n",
    "\n",
    "        price = get_amazon_price(main_dom)\n",
    "        #product_name = get_product_name(main_dom)\n",
    "        if price is None:\n",
    "            print(f\"    Not available - {type}\")\n",
    "        else:\n",
    "            print(f\"    {price} - {type}\")\n",
    "\n"
   ]
  },
  {
   "cell_type": "markdown",
   "metadata": {},
   "source": [
    "## Mimovrste"
   ]
  },
  {
   "cell_type": "code",
   "execution_count": 1,
   "metadata": {},
   "outputs": [],
   "source": [
    "import requests\n",
    "from bs4 import BeautifulSoup"
   ]
  },
  {
   "cell_type": "code",
   "execution_count": 7,
   "metadata": {},
   "outputs": [
    {
     "data": {
      "text/plain": [
       "'https://www.mimovrste.com/iskanje?s=GeForce%20RTX%203060'"
      ]
     },
     "execution_count": 7,
     "metadata": {},
     "output_type": "execute_result"
    }
   ],
   "source": [
    "product_name = \"GeForce RTX 3060\"\n",
    "product_name_url = product_name.replace(\" \", \"%20\")\n",
    "search_url = f\"https://www.mimovrste.com/iskanje?s={product_name_url}\"\n",
    "search_url"
   ]
  },
  {
   "cell_type": "code",
   "execution_count": 2,
   "metadata": {},
   "outputs": [],
   "source": [
    "search_urls = {\"3060\": \n",
    "                {   \n",
    "                    \"ASUS Dual OC\": \"https://www.mimovrste.com/graficne-kartice-nvidia/asus-geforce-rtx-3060-ti-dual-oc-graficna-kartica-8-gb-gddr6-lhr-90yv0g1j-m0na00\",\n",
    "                    \"Manli\": \"https://www.mimovrste.com/graficne-kartice-nvidia/manli-geforce-rtx-3060-lhr-gallardo-m2510n630-graficna-kartica-12-gb-gddr6-m-nrtx3060g-m2510\",\n",
    "                    \"ASUS Dual\": \"https://www.mimovrste.com/graficne-kartice-nvidia/asus-dual-geforce-rtx-3060-v2-oc-graficna-kartica-12-gb-gddr6-90yv0gb2-m0na10-\",\n",
    "                    \"ASUS TUF Gaming\": \"https://www.mimovrste.com/graficne-kartice-nvidia/asus-tuf-geforce-rtx-3060-gaming-oc-v2-graficna-kartica-12gb-gddr6-pci-e-40-tuf-rtx3060-o12g-v2-gaming\",\n",
    "                    \"Manli Gallardo\": \"https://www.mimovrste.com/graficne-kartice-nvidia/manli-geforce-rtx-3060-lhr-m2500n630-graficna-kartica-12-gb-gddr6-m-nrtx3060-m2500\"\n",
    "                },\n",
    "                \"3090\": \n",
    "                {\n",
    "                    \"Gainward\": \"https://www.mimovrste.com/graficne-kartice-nvidia/gainward-geforce-rtx-3090-phantom-graficna-kartica-24-gb-gddr6x\",\n",
    "                    \"ASUS ROG Strix\": \"https://www.mimovrste.com/graficne-kartice-nvidia/asus-rog-strix-gaming-oc-geforce-rtx-3090-graficna-kartica-24-gb-gddr6x\",\n",
    "                    \"ASUS TUF Gaming\": \"https://www.mimovrste.com/graficne-kartice-nvidia/asus-tuf-gaming-geforce-rtx-3090-graficna-kartica-24-gb-gddr6x\"\n",
    "                }\n",
    "            }\n"
   ]
  },
  {
   "cell_type": "code",
   "execution_count": 7,
   "metadata": {},
   "outputs": [],
   "source": [
    "def get_mimovrste_price(url):\n",
    "    response = requests.get(url)\n",
    "    if not response.ok:\n",
    "        print(f\"Response: {response.status_code}\")\n",
    "        return None\n",
    "    soup = BeautifulSoup(response.text, \"lxml\")\n",
    "    price_container = soup.find(class_=\"price__wrap__box__final\", recursive=True) # price container on mimovrste - double underscores!!\n",
    "    price_text = price_container.find(\"span\").text\n",
    "    price = price_text.strip(\"\\n \\xa0€\").replace('.','').replace(\",\", \".\") # remove newlines and currency characters and localize number\n",
    "    price = float(price)\n",
    "\n",
    "    availability = soup.find(class_=\"availability-box\").text\n",
    "    if \"Trenutno ni na zalogi\" in availability:\n",
    "        price = -1\n",
    "\n",
    "    return price"
   ]
  },
  {
   "cell_type": "code",
   "execution_count": 32,
   "metadata": {},
   "outputs": [
    {
     "name": "stdout",
     "output_type": "stream",
     "text": [
      "3060:\n",
      "    649.50 - ASUS Dual OC\n",
      "    795.50 - Manli\n",
      "    Ni na zalogi - ASUS Dual\n",
      "    730.00 - ASUS TUF Gaming\n",
      "    Ni na zalogi - Manli Gallardo\n",
      "3090:\n",
      "    2846.69 - Gainward\n",
      "    Ni na zalogi - ASUS ROG Strix\n",
      "    Ni na zalogi - ASUS TUF Gaming\n"
     ]
    }
   ],
   "source": [
    "# response 429 - too many requests\n",
    "shop = \"Mimovrste\"\n",
    "for item in search_urls:\n",
    "    print(f\"{item}:\")\n",
    "    for type in search_urls[item]:\n",
    "        price = get_mimovrste_price(search_urls[item][type])\n",
    "        #print(search_urls[item][type])\n",
    "        if price is None:\n",
    "            print(f\"    Listing for item {type} is unreachable\")\n",
    "            print(f\"    Link: {search_urls[item][type]}\")\n",
    "        elif price < 0:\n",
    "            print(f\"    Ni na zalogi - {type}\")\n",
    "        else:\n",
    "            print(f\"    {price:5.2f} - {type}\")"
   ]
  },
  {
   "cell_type": "markdown",
   "metadata": {},
   "source": [
    "## Computer Universe"
   ]
  },
  {
   "cell_type": "code",
   "execution_count": 9,
   "metadata": {},
   "outputs": [],
   "source": [
    "search_url = \"https://www.computeruniverse.net/en/p/90825306\"\n",
    "#search_url = \"https://www.computeruniverse.net/en/p/90912731\"\n",
    "#search_url = \"https://webapi.computeruniverse.net/api/products/90912731/productinformationbar/pdp\""
   ]
  },
  {
   "cell_type": "code",
   "execution_count": 10,
   "metadata": {},
   "outputs": [
    {
     "data": {
      "text/plain": [
       "<RequestsCookieJar[Cookie(version=0, name='__cf_bm', value='S1dmleVOl1FmzVFOTZ3M77t1Ae3JWHip_mNGYTNBRqU-1669828008-0-AYJrqPJi+gFA4kJK8hOwZx8io5ZUFa4MeOyKqbu3xNA4/Q0nj/aebdunyE89SuUto5CMp7fSFe9eKeYjpl3R3y0=', port=None, port_specified=False, domain='.computeruniverse.net', domain_specified=True, domain_initial_dot=True, path='/', path_specified=True, secure=True, expires=1669829808, discard=False, comment=None, comment_url=None, rest={'HttpOnly': None, 'SameSite': 'None'}, rfc2109=False)]>"
      ]
     },
     "execution_count": 10,
     "metadata": {},
     "output_type": "execute_result"
    }
   ],
   "source": [
    "header = {\n",
    "    \"User-Agent\": \"Mozilla/5.0 (X11; Ubuntu; Linux x86_64; rv:106.0) Gecko/20100101 Firefox/106.0\", \"Accept-Encoding\": \"gzip, deflate, utf-8\", \"Accept-Language\": \"en-US,en;q=0.5\", \n",
    "    'Accept': '*/*', \"authorization\": \"null\",\n",
    "    \"Connection\": \"keep-alive\"\n",
    "}\n",
    "session = requests.session()\n",
    "p = session.post(\"https://www.computeruniverse.net/en\", headers=header)\n",
    "p.cookies"
   ]
  },
  {
   "cell_type": "code",
   "execution_count": 11,
   "metadata": {},
   "outputs": [
    {
     "data": {
      "text/plain": [
       "<RequestsCookieJar[Cookie(version=0, name='__cf_bm', value='S1dmleVOl1FmzVFOTZ3M77t1Ae3JWHip_mNGYTNBRqU-1669828008-0-AYJrqPJi+gFA4kJK8hOwZx8io5ZUFa4MeOyKqbu3xNA4/Q0nj/aebdunyE89SuUto5CMp7fSFe9eKeYjpl3R3y0=', port=None, port_specified=False, domain='.computeruniverse.net', domain_specified=True, domain_initial_dot=True, path='/', path_specified=True, secure=True, expires=1669829808, discard=False, comment=None, comment_url=None, rest={'HttpOnly': None, 'SameSite': 'None'}, rfc2109=False)]>"
      ]
     },
     "execution_count": 11,
     "metadata": {},
     "output_type": "execute_result"
    }
   ],
   "source": [
    "session.cookies"
   ]
  },
  {
   "cell_type": "code",
   "execution_count": 12,
   "metadata": {},
   "outputs": [],
   "source": [
    "ck = \"dy_fs_page=www.computeruniverse.net%2Fen; _dyfs=1648720449085; wtstp_sid=1; wtstp_rla=977787962413082%2C8%2C1668447189795; _dyid_server=-671035470931397718; cu-edge-hints={%22customer%22:{%22b2b%22:false%2C%22loggedIn%22:false%2C%22state%22:%22Unknown%22}%2C%22session%22:null%2C%22consent%22:{%22b%22:false%2C%22c%22:false%2C%22n%22:true}}; _ALGOLIA=anonymous-18c1daad-4395-49e6-aa31-bc84236c4372; _dyjsession=4332zp5dmpkfq8n6zcfkbpurw1wovy5r; _dy_csc_ses=4332zp5dmpkfq8n6zcfkbpurw1wovy5r; _dy_c_exps=; _dy_c_at….1668445101*1043726.1160956.1668448076*1073744.1213418.1648720453*1083564.1237559.1668448076*1113889.1339759.1668448076; wtstp_eid=2166844510168316476; consentOpts={%22b%22:false%2C%22c%22:false%2C%22n%22:true}; __cf_bm=a2mVwduQsT99vhYg0EsmFeyJifjpS9aHyOpzDC0.pBk-1668447957-0-AVNh+s64Ny3tq94N2RslzFRekH51PbkScI+UJ+kVW9UJAcjXxbx75dLtRhEP1GufRxpVulD3eMYAS9I+q1q6kxDqP05B4Qt2LAYT7OeKR8bYbfBTMzmpkEQmS6LLinZthl/UdIg4NSNwNY2Wy60hnitFPo5EN45ITtpKz0jH5abV; _dyjsession=4332zp5dmpkfq8n6zcfkbpurw1wovy5r; wtstp_cdbeid=1\""
   ]
  },
  {
   "cell_type": "code",
   "execution_count": 13,
   "metadata": {},
   "outputs": [
    {
     "data": {
      "text/plain": [
       "<Response [403]>"
      ]
     },
     "execution_count": 13,
     "metadata": {},
     "output_type": "execute_result"
    }
   ],
   "source": [
    "header = {\n",
    "    \"User-Agent\": \"Mozilla/5.0 (X11; Ubuntu; Linux x86_64; rv:106.0) Gecko/20100101 Firefox/106.0\", \"Accept-Encoding\": \"gzip, deflate, utf-8\", \"Accept-Language\": \"en-US,en;q=0.5\", \n",
    "    'Accept': '*/*', \"authorization\": \"null\",\n",
    "    \"Connection\": \"keep-alive\",\n",
    "    \"Cookie\": ck.encode(\"utf-8\")\n",
    "}\n",
    "response = requests.get(search_url, headers=header)\n",
    "response"
   ]
  },
  {
   "cell_type": "code",
   "execution_count": 14,
   "metadata": {},
   "outputs": [
    {
     "data": {
      "text/plain": [
       "'<!DOCTYPE html>\\n<html lang=\"en-US\">\\n<head>\\n    <title>Just a moment...</title>\\n    <meta http-equiv=\"Content-Type\" content=\"text/html; charset=UTF-8\">\\n    <meta http-equiv=\"X-UA-Compatible\" content=\"IE=Edge\">\\n    <meta name=\"robots\" content=\"noindex,nofollow\">\\n    <meta name=\"viewport\" content=\"width=device-width,initial-scale=1\">\\n    <link href=\"/cdn-cgi/styles/challenges.css\" rel=\"stylesheet\">\\n    \\n\\n</head>\\n<body class=\"no-js\">\\n    <div class=\"main-wrapper\" role=\"main\">\\n    <div class=\"main-content\">\\n        <h1 class=\"zone-name-title h1\">\\n            <img class=\"heading-favicon\" src=\"/favicon.ico\"\\n                 onerror=\"this.onerror=null;this.parentNode.removeChild(this)\">\\n            www.computeruniverse.net\\n        </h1>\\n        <h2 class=\"h2\" id=\"challenge-running\">\\n            Checking if the site connection is secure\\n        </h2>\\n        <noscript>\\n            <div id=\"challenge-error-title\">\\n                <div class=\"h2\">\\n                    <span class=\"icon-wrapper\">\\n                        <div class=\"heading-icon warning-icon\"></div>\\n                    </span>\\n                    <span id=\"challenge-error-text\">\\n                        Enable JavaScript and cookies to continue\\n                    </span>\\n                </div>\\n            </div>\\n        </noscript>\\n        <div id=\"trk_jschal_js\" style=\"display:none;background-image:url(\\'/cdn-cgi/images/trace/managed/nojs/transparent.gif?ray=77252d13ade738c0\\')\"></div>\\n        <div id=\"challenge-body-text\" class=\"core-msg spacer\">\\n            www.computeruniverse.net needs to review the security of your connection before proceeding.\\n        </div>\\n        <form id=\"challenge-form\" action=\"/en/p/90825306?__cf_chl_f_tk=Sdcr1MJSqT_30izGKVzWvoXGry6zuL7tfG_UlrSJy6I-1669828012-0-gaNycGzNCuU\" method=\"POST\" enctype=\"application/x-www-form-urlencoded\">\\n            <input type=\"hidden\" name=\"md\" value=\"rUB2lRbfm4JqKH12TZ5ySep8rMeNMS9Lqxfgo_FG9_4-1669828012-0-Aa0bBC37Uam7c2QAHNHoJAafp_Oj5UyeKxZfSHX58sEmEFdQYNoBpiVZ5DJeziP66w-aLvr6eUYL5FN08RIiIVRyl4u9aiYJ8rTYBB_ESIGTOJGRSmPuTW6L0LRVMY4fReEQJ9ZfsuiGfR_83IIMv6AF5aMaHWfyF3Q0DaX9XBbktaIQ8bcA2AHIIO5ZAdy4_ksFdk2-e1aRlX2Lk-bLU3YxUSh24B2IcfCHuDkcCiWgWVWqQdn9X9ex8WuHKkEK5iE9QvTrK34K_yg0Gojmu-ASsAiKNJJ6_YddwVXC5Lk_k4aiGRQfBkFCdF0cw9t58EdU4QyVLgTcRRkpLvj0drSTZBiMAX_xFoWvGo26eGSoI4s4JtrylSWnWq5d0g_HU0KX9YaWcybWnZjGd-7Cb_vCkTxO_skobC3cOJCn7kVLjiSiDYT4NwyRMhZkAMfAE7tzhhljWsntbCQVuPfjKc9DAAvkb05JHsJly75_2qtl1DATJhon6u817KClVCQZDlmb4oRun6XYONGLxhVbegS5haKiiNPbSdJQ0urKNfMINPxPBCUvsbf4RO45-WCUwl9XYuJ-DyOxymiBnxPuNhRESE7rtS4S3SvnlRzDzMwDd_2yE9euo9Pu1QdNS2S0v04CWoDt74dggyT2YomOL290ViUYJSg83MvVFhrC15Jb4uhhPCu6zEeqpj7fZv4bbA\">\\n            <input type=\"hidden\" name=\"r\" value=\"PSTm5Lshzxvc1qPY6QY6xwCToD9okBnnYIRUYkuJZNI-1669828012-0-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\">\\n        </form>\\n    </div>\\n</div>\\n<script>\\n    (function(){\\n        window._cf_chl_opt={\\n            cvId: \\'2\\',\\n            cType: \\'managed\\',\\n            cNounce: \\'41744\\',\\n            cRay: \\'77252d13ade738c0\\',\\n            cHash: \\'5a979aa361f9c62\\',\\n            cUPMDTk: \"\\\\/en\\\\/p\\\\/90825306?__cf_chl_tk=Sdcr1MJSqT_30izGKVzWvoXGry6zuL7tfG_UlrSJy6I-1669828012-0-gaNycGzNCuU\",\\n            cFPWv: \\'b\\',\\n            cTTimeMs: \\'1000\\',\\n            cTplV: 4,\\n            cTplB: \\'cf\\',\\n            cRq: {\\n                ru: \\'aHR0cHM6Ly93d3cuY29tcHV0ZXJ1bml2ZXJzZS5uZXQvZW4vcC85MDgyNTMwNg==\\',\\n                ra: \\'TW96aWxsYS81LjAgKFgxMTsgVWJ1bnR1OyBMaW51eCB4ODZfNjQ7IHJ2OjEwNi4wKSBHZWNrby8yMDEwMDEwMSBGaXJlZm94LzEwNi4w\\',\\n                rm: \\'R0VU\\',\\n                d: \\'SDplgLmKJaZZ53q6FvpIpaLcsN4h7DcSTsSF81GUf57vRaVcZ/pNutoJLHBqxCSVXqZrb6yKCC3AA+UL+eJlarjjCCZlG15Nlu8TmTtVb4eGrD4IIu/0L+klSmD/UoMLtzwX+UGkWsGGpcatXDDcAmoIPrn6ojn7vgfiSRpUmTh6+HfqT4xLUU2PkfcmSH1srGye4IOB4F+Ig+BiPREE2/PbLEyDv0UnI7w3/ezjlZl1rVn8QzEoYl5WE4FRmSybBeDRdnjG5O/w0T37G7yRnGChKdUmsFOk+5YQlraqkVyl/LHL6kz9DvbIK7fqes8tdI2LUNLWZtIdjKhhrjp5iPsnhK3fvaOj3xkxwKThSiC27upKbFgiIm5G+TiTTgCEeR+CdEpvKsJ/wYjgNmYNR1Kc6DFuv2ZCUjprjaRM96nbhQMSgCWPtLk7fvosA2+duSgqZNtBhZ1CveECGBRPVfQYUx5jHiXIB3Sade/bZbk44+REmSj2zcGMhSTAxUCHx+r1bMvaMpl7u7wJ3xdZJkqeQk6BXAMK3bOAr4wKfVT/dqFjC9b8AA3zYeOWf5JraXsL2Rqtr49GN1kOGSfLeKP2BHa1cmhwhm5e7OiLs5MYu0Xkdm/EAhb+0k+A3Ccn\\',\\n                t: \\'MTY2OTgyODAxMi4xMzUwMDA=\\',\\n                m: \\'GJKstuapUlKJs8R8hHkYO/U9FmaPMmkjLYxly9yZAok=\\',\\n                i1: \\'0q774VAJM9ofIzR7bN2xeQ==\\',\\n                i2: \\'mzbjBXi3qVu+yQVPkdChxA==\\',\\n                zh: \\'UAskWyY7MDlklwgzRdv1T2LBFQHSa7ga0us8Nl+a97Y=\\',\\n                uh: \\'jsAgcrnUrqqsrMUjYmCzewY038kF8W/I7CMrjWj7YFw=\\',\\n                hh: \\'NSdsP0QcFAv4sKuS7Hdg+pNQYP+A0hddRWXdpBpslxM=\\',\\n            }\\n        };\\n        var trkjs = document.createElement(\\'img\\');\\n        trkjs.setAttribute(\\'src\\', \\'/cdn-cgi/images/trace/managed/js/transparent.gif?ray=77252d13ade738c0\\');\\n        trkjs.setAttribute(\\'style\\', \\'display: none\\');\\n        document.body.appendChild(trkjs);\\n        var cpo = document.createElement(\\'script\\');\\n        cpo.src = \\'/cdn-cgi/challenge-platform/h/b/orchestrate/managed/v1?ray=77252d13ade738c0\\';\\n        window._cf_chl_opt.cOgUHash = location.hash === \\'\\' && location.href.indexOf(\\'#\\') !== -1 ? \\'#\\' : location.hash;\\n        window._cf_chl_opt.cOgUQuery = location.search === \\'\\' && location.href.slice(0, -window._cf_chl_opt.cOgUHash.length).indexOf(\\'?\\') !== -1 ? \\'?\\' : location.search;\\n        if (window.history && window.history.replaceState) {\\n            var ogU = location.pathname + window._cf_chl_opt.cOgUQuery + window._cf_chl_opt.cOgUHash;\\n            history.replaceState(null, null, \"\\\\/en\\\\/p\\\\/90825306?__cf_chl_rt_tk=Sdcr1MJSqT_30izGKVzWvoXGry6zuL7tfG_UlrSJy6I-1669828012-0-gaNycGzNCuU\" + window._cf_chl_opt.cOgUHash);\\n            cpo.onload = function() {\\n                history.replaceState(null, null, ogU);\\n            };\\n        }\\n        document.getElementsByTagName(\\'head\\')[0].appendChild(cpo);\\n    }());\\n</script>\\n\\n\\n    <div class=\"footer\" role=\"contentinfo\">\\n        <div class=\"footer-inner\">\\n            <div class=\"clearfix diagnostic-wrapper\">\\n                <div class=\"ray-id\">Ray ID: <code>77252d13ade738c0</code></div>\\n            </div>\\n            <div class=\"text-center\">Performance &amp; security by <a rel=\"noopener noreferrer\" href=\"https://www.cloudflare.com?utm_source=challenge&utm_campaign=m\" target=\"_blank\">Cloudflare</a></div>\\n        </div>\\n    </div>\\n</body>\\n</html>\\n'"
      ]
     },
     "execution_count": 14,
     "metadata": {},
     "output_type": "execute_result"
    }
   ],
   "source": [
    "response.text"
   ]
  },
  {
   "cell_type": "code",
   "execution_count": 15,
   "metadata": {},
   "outputs": [
    {
     "data": {
      "text/plain": [
       "<RequestsCookieJar[Cookie(version=0, name='__cf_bm', value='c54IYhsqe2JkKcnLjLd1VYqr5XObXlRyz2zkUMiRzfA-1669828012-0-Ae3gr7JZFH1BhIQatWrFAJJUv/m+JDk4G0H9aPS6j0puTuvMsxsMcahI2moWa1C4LUCw/vntBMVmhb4rYe7cXAE=', port=None, port_specified=False, domain='.computeruniverse.net', domain_specified=True, domain_initial_dot=True, path='/', path_specified=True, secure=True, expires=1669829812, discard=False, comment=None, comment_url=None, rest={'HttpOnly': None, 'SameSite': 'None'}, rfc2109=False)]>"
      ]
     },
     "execution_count": 15,
     "metadata": {},
     "output_type": "execute_result"
    }
   ],
   "source": [
    "response.cookies"
   ]
  },
  {
   "cell_type": "code",
   "execution_count": 16,
   "metadata": {},
   "outputs": [
    {
     "data": {
      "text/plain": [
       "<!DOCTYPE html>\n",
       "<html lang=\"en-US\">\n",
       "<head>\n",
       "<title>Just a moment...</title>\n",
       "<meta content=\"text/html; charset=utf-8\" http-equiv=\"Content-Type\"/>\n",
       "<meta content=\"IE=Edge\" http-equiv=\"X-UA-Compatible\"/>\n",
       "<meta content=\"noindex,nofollow\" name=\"robots\"/>\n",
       "<meta content=\"width=device-width,initial-scale=1\" name=\"viewport\"/>\n",
       "<link href=\"/cdn-cgi/styles/challenges.css\" rel=\"stylesheet\"/>\n",
       "</head>\n",
       "<body class=\"no-js\">\n",
       "<div class=\"main-wrapper\" role=\"main\">\n",
       "<div class=\"main-content\">\n",
       "<h1 class=\"zone-name-title h1\">\n",
       "<img class=\"heading-favicon\" onerror=\"this.onerror=null;this.parentNode.removeChild(this)\" src=\"/favicon.ico\"/>\n",
       "            www.computeruniverse.net\n",
       "        </h1>\n",
       "<h2 class=\"h2\" id=\"challenge-running\">\n",
       "            Checking if the site connection is secure\n",
       "        </h2>\n",
       "<noscript>\n",
       "<div id=\"challenge-error-title\">\n",
       "<div class=\"h2\">\n",
       "<span class=\"icon-wrapper\">\n",
       "<div class=\"heading-icon warning-icon\"></div>\n",
       "</span>\n",
       "<span id=\"challenge-error-text\">\n",
       "                        Enable JavaScript and cookies to continue\n",
       "                    </span>\n",
       "</div>\n",
       "</div>\n",
       "</noscript>\n",
       "<div id=\"trk_jschal_js\" style=\"display:none;background-image:url('/cdn-cgi/images/trace/managed/nojs/transparent.gif?ray=77252d13ade738c0')\"></div>\n",
       "<div class=\"core-msg spacer\" id=\"challenge-body-text\">\n",
       "            www.computeruniverse.net needs to review the security of your connection before proceeding.\n",
       "        </div>\n",
       "<form action=\"/en/p/90825306?__cf_chl_f_tk=Sdcr1MJSqT_30izGKVzWvoXGry6zuL7tfG_UlrSJy6I-1669828012-0-gaNycGzNCuU\" enctype=\"application/x-www-form-urlencoded\" id=\"challenge-form\" method=\"POST\">\n",
       "<input name=\"md\" type=\"hidden\" value=\"rUB2lRbfm4JqKH12TZ5ySep8rMeNMS9Lqxfgo_FG9_4-1669828012-0-Aa0bBC37Uam7c2QAHNHoJAafp_Oj5UyeKxZfSHX58sEmEFdQYNoBpiVZ5DJeziP66w-aLvr6eUYL5FN08RIiIVRyl4u9aiYJ8rTYBB_ESIGTOJGRSmPuTW6L0LRVMY4fReEQJ9ZfsuiGfR_83IIMv6AF5aMaHWfyF3Q0DaX9XBbktaIQ8bcA2AHIIO5ZAdy4_ksFdk2-e1aRlX2Lk-bLU3YxUSh24B2IcfCHuDkcCiWgWVWqQdn9X9ex8WuHKkEK5iE9QvTrK34K_yg0Gojmu-ASsAiKNJJ6_YddwVXC5Lk_k4aiGRQfBkFCdF0cw9t58EdU4QyVLgTcRRkpLvj0drSTZBiMAX_xFoWvGo26eGSoI4s4JtrylSWnWq5d0g_HU0KX9YaWcybWnZjGd-7Cb_vCkTxO_skobC3cOJCn7kVLjiSiDYT4NwyRMhZkAMfAE7tzhhljWsntbCQVuPfjKc9DAAvkb05JHsJly75_2qtl1DATJhon6u817KClVCQZDlmb4oRun6XYONGLxhVbegS5haKiiNPbSdJQ0urKNfMINPxPBCUvsbf4RO45-WCUwl9XYuJ-DyOxymiBnxPuNhRESE7rtS4S3SvnlRzDzMwDd_2yE9euo9Pu1QdNS2S0v04CWoDt74dggyT2YomOL290ViUYJSg83MvVFhrC15Jb4uhhPCu6zEeqpj7fZv4bbA\"/>\n",
       "<input name=\"r\" type=\"hidden\" value=\"PSTm5Lshzxvc1qPY6QY6xwCToD9okBnnYIRUYkuJZNI-1669828012-0-Adg6nomCBN/v/eQRfJKDYoqwPbITyS4BvLer4kNiBWtNnfiPEtFvTa3NdH4Bq8Q5ccrx7bk1dPav0/5iqxdADjycnRBaBbBjDYiFMjX22tIJLdUwso1mLud8OEHbpdXvm/q1BI2zkaWlqCCDlCNPcEHjxxv4MemEqj16FQcVYJv232tHo82HgPxO0MdCx4fpAB7wiApfTdHdOsMPrWqtxPRk3xHxuU3OM4IJjS8qlTyg2+GkB8z6Aw4Hzf0VcZAghKanWZg1SNiRCMulKDSvaLntz/P0bcbs24OqwEhGTz3ka4TBFXJnyoLDpizMv5Q/Bc79Wzi3sYzORhAblNQewIdEUn3JI8QaJhTtLC+zLja6x0Ywp8nEKD4JyWpQ/6I/ZPF2cnCJwFrNkL1jS9ZmT2lX4yXx5/0F+KTV+yiNIA+pmPPIvlN5HUFd9sUy7i6dPY3hI52Nm+EFFptFUyvlBuU0NDSldDitvuwX0B8XLYSbAM6LqFjfR3CtA1wjGfmMzxjvMEGnKZjwTxW94W0p7SbMta3HjRrFf6iXpFQpgq3CVuLQijPB2AIPin5i1lXN359gN3QhM3EU3yBJGoK4UTf87+Ivc1wmmrxL75BfiB9Sau4Le/BZd7FonzUchOZW+hQ7saYL/eweScD4QW8oP3bZO2xbEsYfdZXTxPztZU37Jl7JbqhBLV3ycXIQBa8Kkx5ZxkYv8I2BWNYY844hkbmMMxVMAf+zuxpXCMpxACFBEhxRMbbYcEVrd1CDl6UD4Qs+bQj1Ra5Cjn4mQOZqZm3/pyPgvOX72F+m6/FGc0Lr2wSnmz6tVkI5Uaaaq8ye1M4CL7y497IO5dvOh89xrRPIATQVynPO1sn6Ne6dtt5VrfQO3b6PAulmyvn6qrwc19tNYRXZiP8/nFeIi0avjmpilCcxOfrP3Vg63Ty6/o2uTdAd8QwDuMak/9o34rN/VAB+lC9iOKKWdMI6hQWxerzE4G1IQ0M3hiPwOSxYmKWVz5RCGyi3zIyQd2WIkxdSmJELhR2MDDt4JtqxRFqy6RsE0ujKbF1djGwz+NS4ToV9AZgsG1VBMnbgLi4iT3DwuBLJUF/q57KJxqgqtgGWsuWrqoJv1Ro/GE9xaV5EiVNqvjQwAmC+jt0kHLCP9VCRo9qxvy21wqG00iG2QtNI8KEXP0rXkJph9MOSKpJHc/KgjqhdyAtVmgRbD+yrYK5EA7ufzgn6Q8yaBXzSjd9NO6wA3ol9xAAsxcIS69PLyhgUxa4LtxIgtPgLOe5X7ApW0n2wuqoy+bT8wOtQQDUhrO0FcEWxm1NjXOue1wqIJ6d57o+e4aGBtUF2eK2GCjYY/4KL7ZtDYnIVWQ7LpV7OyAWalhUfgFv3n8WckEo1PN63CuXzvwlxHjlc0B2y9V/5sPftus9uZXGapHAkX7kft8NWGwscHrexlW0+f3JkOsP9dolHEifJOjl17ULfaRUfhx8qUyjKsCv/qTufNqxUhIDSlWMzyZ6tZeJ7vjyfqTVd2zz0Jdt7No/fhU6r/DISaYZgBbu+BSBacGmx3aLTmLwODCE9T23cH4BCIGUeNr12KYbSfuwOCzeQvCUyVv8xDTLnP6LgUMlAfpVWTNqmYsE3K6B7cBshcoS371rDKEv8HlTioL5++5VYMhC9UfULfzIuLg6+ydurj9aaehqdhkDnKnZ43ogc1C2QIU9bD0pgAr4ccjloWMppFktMbu+7w5jvvjiZXOxaqxMNHq1gC84HouprbuPZIQc54W1m0gYcnJMEM80SemDDRZZV5EhLLwhTHTJ6x8VRJbm1N57MiOBZyIW48+W9KbCQi3xMwSpRpr+3TcZbGYGsNvAfiUIT8aMnsV1en+1f2VfFux8mHYws5O3UoOnLEb+7Xll2vAoNlbgV0mDwXvNInMzJROXUv2T+pzvtK3TvCEpt8DcsJuV9PkjDTlT1zHYjFnR1T9CGHfV66Y3AHx7np36pwxFJwFMcn2nwGcnvlCbBt5Ax47eExW3T6kRN0uEpGutYl9Q01odmPloX1pc8GMwuz6u3oY/wLh8ctoMUJ+ya89A6pNJIsUQCT82kaBZ5q+/giLYTqupbCHENYoCwHlkdoXY033sZ/SX1GLms8C9s3g2r5h66vEFToHex2Z5D3M1Ek/51MRzqUq5Y2/76GZRGbXF8pPPcrO6rON/HASiijNpaCjp+TBJUyYqRTpj2S9M3zGmmJo1slPDERWLLU4XIMy2vOW8BUIZyFhkzqcAhou9QiUVNp+S0yeFOUX/ouMm70E3e+E/tfsb9hvp6XMIkYhF/pHvk2yzn0WTSFrlL4gkWEh6xHqkBQdIz2VgCal5H0lvwEe4XVw3dJRzLAbevUd6HLs8/pXP6w7KEa4IFFEDhfSVKf4jAzAOvLUV8p67gAHLO67Htj6PnWWDOgqbG/4tbCO7roewDMGcSW0ihYvPRIdahjSeWHGRzMfpq0X4ziU9ARQga93OC3Aq7htzokHP5OppifTpRXtH6pKOMz1shcZL1EUJvo0uKAe0PG5ySrLw8Y1H9FCS4CBhiuvpxhzkK0EZLNLczhJRQiiOPXr3HIO91gPzplkcaEV02sqKvKwCt2cRcqrZaZnG8De4LAsI7N8t/3CqjPXQwBqP/y5x9bP/o4AYP+RAUfFgejlPB38l+fggb6gzJ3lWkhkn1TfagHj7Qi5lnahrjBfNckaqa/zVx9JLUcNrFFQmM6SJYh2El\"/>\n",
       "</form>\n",
       "</div>\n",
       "</div>\n",
       "<script>\n",
       "    (function(){\n",
       "        window._cf_chl_opt={\n",
       "            cvId: '2',\n",
       "            cType: 'managed',\n",
       "            cNounce: '41744',\n",
       "            cRay: '77252d13ade738c0',\n",
       "            cHash: '5a979aa361f9c62',\n",
       "            cUPMDTk: \"\\/en\\/p\\/90825306?__cf_chl_tk=Sdcr1MJSqT_30izGKVzWvoXGry6zuL7tfG_UlrSJy6I-1669828012-0-gaNycGzNCuU\",\n",
       "            cFPWv: 'b',\n",
       "            cTTimeMs: '1000',\n",
       "            cTplV: 4,\n",
       "            cTplB: 'cf',\n",
       "            cRq: {\n",
       "                ru: 'aHR0cHM6Ly93d3cuY29tcHV0ZXJ1bml2ZXJzZS5uZXQvZW4vcC85MDgyNTMwNg==',\n",
       "                ra: 'TW96aWxsYS81LjAgKFgxMTsgVWJ1bnR1OyBMaW51eCB4ODZfNjQ7IHJ2OjEwNi4wKSBHZWNrby8yMDEwMDEwMSBGaXJlZm94LzEwNi4w',\n",
       "                rm: 'R0VU',\n",
       "                d: 'SDplgLmKJaZZ53q6FvpIpaLcsN4h7DcSTsSF81GUf57vRaVcZ/pNutoJLHBqxCSVXqZrb6yKCC3AA+UL+eJlarjjCCZlG15Nlu8TmTtVb4eGrD4IIu/0L+klSmD/UoMLtzwX+UGkWsGGpcatXDDcAmoIPrn6ojn7vgfiSRpUmTh6+HfqT4xLUU2PkfcmSH1srGye4IOB4F+Ig+BiPREE2/PbLEyDv0UnI7w3/ezjlZl1rVn8QzEoYl5WE4FRmSybBeDRdnjG5O/w0T37G7yRnGChKdUmsFOk+5YQlraqkVyl/LHL6kz9DvbIK7fqes8tdI2LUNLWZtIdjKhhrjp5iPsnhK3fvaOj3xkxwKThSiC27upKbFgiIm5G+TiTTgCEeR+CdEpvKsJ/wYjgNmYNR1Kc6DFuv2ZCUjprjaRM96nbhQMSgCWPtLk7fvosA2+duSgqZNtBhZ1CveECGBRPVfQYUx5jHiXIB3Sade/bZbk44+REmSj2zcGMhSTAxUCHx+r1bMvaMpl7u7wJ3xdZJkqeQk6BXAMK3bOAr4wKfVT/dqFjC9b8AA3zYeOWf5JraXsL2Rqtr49GN1kOGSfLeKP2BHa1cmhwhm5e7OiLs5MYu0Xkdm/EAhb+0k+A3Ccn',\n",
       "                t: 'MTY2OTgyODAxMi4xMzUwMDA=',\n",
       "                m: 'GJKstuapUlKJs8R8hHkYO/U9FmaPMmkjLYxly9yZAok=',\n",
       "                i1: '0q774VAJM9ofIzR7bN2xeQ==',\n",
       "                i2: 'mzbjBXi3qVu+yQVPkdChxA==',\n",
       "                zh: 'UAskWyY7MDlklwgzRdv1T2LBFQHSa7ga0us8Nl+a97Y=',\n",
       "                uh: 'jsAgcrnUrqqsrMUjYmCzewY038kF8W/I7CMrjWj7YFw=',\n",
       "                hh: 'NSdsP0QcFAv4sKuS7Hdg+pNQYP+A0hddRWXdpBpslxM=',\n",
       "            }\n",
       "        };\n",
       "        var trkjs = document.createElement('img');\n",
       "        trkjs.setAttribute('src', '/cdn-cgi/images/trace/managed/js/transparent.gif?ray=77252d13ade738c0');\n",
       "        trkjs.setAttribute('style', 'display: none');\n",
       "        document.body.appendChild(trkjs);\n",
       "        var cpo = document.createElement('script');\n",
       "        cpo.src = '/cdn-cgi/challenge-platform/h/b/orchestrate/managed/v1?ray=77252d13ade738c0';\n",
       "        window._cf_chl_opt.cOgUHash = location.hash === '' && location.href.indexOf('#') !== -1 ? '#' : location.hash;\n",
       "        window._cf_chl_opt.cOgUQuery = location.search === '' && location.href.slice(0, -window._cf_chl_opt.cOgUHash.length).indexOf('?') !== -1 ? '?' : location.search;\n",
       "        if (window.history && window.history.replaceState) {\n",
       "            var ogU = location.pathname + window._cf_chl_opt.cOgUQuery + window._cf_chl_opt.cOgUHash;\n",
       "            history.replaceState(null, null, \"\\/en\\/p\\/90825306?__cf_chl_rt_tk=Sdcr1MJSqT_30izGKVzWvoXGry6zuL7tfG_UlrSJy6I-1669828012-0-gaNycGzNCuU\" + window._cf_chl_opt.cOgUHash);\n",
       "            cpo.onload = function() {\n",
       "                history.replaceState(null, null, ogU);\n",
       "            };\n",
       "        }\n",
       "        document.getElementsByTagName('head')[0].appendChild(cpo);\n",
       "    }());\n",
       "</script>\n",
       "<div class=\"footer\" role=\"contentinfo\">\n",
       "<div class=\"footer-inner\">\n",
       "<div class=\"clearfix diagnostic-wrapper\">\n",
       "<div class=\"ray-id\">Ray ID: <code>77252d13ade738c0</code></div>\n",
       "</div>\n",
       "<div class=\"text-center\">Performance &amp; security by <a href=\"https://www.cloudflare.com?utm_source=challenge&amp;utm_campaign=m\" rel=\"noopener noreferrer\" target=\"_blank\">Cloudflare</a></div>\n",
       "</div>\n",
       "</div>\n",
       "</body>\n",
       "</html>"
      ]
     },
     "execution_count": 16,
     "metadata": {},
     "output_type": "execute_result"
    }
   ],
   "source": [
    "soup = BeautifulSoup(response.text, \"lxml\")\n",
    "soup"
   ]
  },
  {
   "cell_type": "code",
   "execution_count": 17,
   "metadata": {},
   "outputs": [],
   "source": [
    "dt = soup.find(class_=\"price-box\", recursive=True)\n",
    "dt"
   ]
  },
  {
   "cell_type": "code",
   "execution_count": 18,
   "metadata": {},
   "outputs": [
    {
     "ename": "AttributeError",
     "evalue": "'NoneType' object has no attribute 'text'",
     "output_type": "error",
     "traceback": [
      "\u001b[0;31m---------------------------------------------------------------------------\u001b[0m",
      "\u001b[0;31mAttributeError\u001b[0m                            Traceback (most recent call last)",
      "Cell \u001b[0;32mIn [18], line 1\u001b[0m\n\u001b[0;32m----> 1\u001b[0m price \u001b[39m=\u001b[39m dt\u001b[39m.\u001b[39;49mtext\n\u001b[1;32m      2\u001b[0m price\n",
      "\u001b[0;31mAttributeError\u001b[0m: 'NoneType' object has no attribute 'text'"
     ]
    }
   ],
   "source": [
    "price = dt.text\n",
    "price"
   ]
  },
  {
   "cell_type": "code",
   "execution_count": 19,
   "metadata": {},
   "outputs": [
    {
     "ename": "AttributeError",
     "evalue": "'NoneType' object has no attribute 'replace'",
     "output_type": "error",
     "traceback": [
      "\u001b[0;31m---------------------------------------------------------------------------\u001b[0m",
      "\u001b[0;31mAttributeError\u001b[0m                            Traceback (most recent call last)",
      "Cell \u001b[0;32mIn [19], line 1\u001b[0m\n\u001b[0;32m----> 1\u001b[0m p \u001b[39m=\u001b[39m price\u001b[39m.\u001b[39;49mreplace(\u001b[39m\"\u001b[39m\u001b[39m\\xa0\u001b[39;00m\u001b[39m€excl. VAT\u001b[39m\u001b[39m\"\u001b[39m,\u001b[39m\"\u001b[39m\u001b[39m\"\u001b[39m)\u001b[39m.\u001b[39mreplace(\u001b[39m'\u001b[39m\u001b[39m.\u001b[39m\u001b[39m'\u001b[39m,\u001b[39m'\u001b[39m\u001b[39m'\u001b[39m)\u001b[39m.\u001b[39mreplace(\u001b[39m\"\u001b[39m\u001b[39m,\u001b[39m\u001b[39m\"\u001b[39m, \u001b[39m\"\u001b[39m\u001b[39m.\u001b[39m\u001b[39m\"\u001b[39m) \n\u001b[1;32m      2\u001b[0m p \u001b[39m=\u001b[39m \u001b[39mfloat\u001b[39m(p)\n\u001b[1;32m      3\u001b[0m p\n",
      "\u001b[0;31mAttributeError\u001b[0m: 'NoneType' object has no attribute 'replace'"
     ]
    }
   ],
   "source": [
    "p = price.replace(\"\\xa0€excl. VAT\",\"\").replace('.','').replace(\",\", \".\") \n",
    "p = float(p)\n",
    "p"
   ]
  },
  {
   "cell_type": "code",
   "execution_count": null,
   "metadata": {},
   "outputs": [],
   "source": []
  },
  {
   "cell_type": "code",
   "execution_count": 20,
   "metadata": {},
   "outputs": [
    {
     "ename": "AttributeError",
     "evalue": "'NoneType' object has no attribute 'text'",
     "output_type": "error",
     "traceback": [
      "\u001b[0;31m---------------------------------------------------------------------------\u001b[0m",
      "\u001b[0;31mAttributeError\u001b[0m                            Traceback (most recent call last)",
      "Cell \u001b[0;32mIn [20], line 2\u001b[0m\n\u001b[1;32m      1\u001b[0m dt \u001b[39m=\u001b[39m soup\u001b[39m.\u001b[39mfind(class_\u001b[39m=\u001b[39m\u001b[39m\"\u001b[39m\u001b[39mavailability-box\u001b[39m\u001b[39m\"\u001b[39m)\n\u001b[0;32m----> 2\u001b[0m dt\u001b[39m.\u001b[39;49mtext\n",
      "\u001b[0;31mAttributeError\u001b[0m: 'NoneType' object has no attribute 'text'"
     ]
    }
   ],
   "source": [
    "dt = soup.find(class_=\"availability-box\")\n",
    "dt.text"
   ]
  },
  {
   "cell_type": "code",
   "execution_count": 89,
   "metadata": {},
   "outputs": [
    {
     "data": {
      "text/plain": [
       "[' ',\n",
       " <div><h3 class=\"availability-box__status availability-box__status--unavailable availability-box__status--clickable\">\n",
       "       Trenutno ni na zalogi\n",
       "     </h3></div>,\n",
       " <div></div>]"
      ]
     },
     "execution_count": 89,
     "metadata": {},
     "output_type": "execute_result"
    }
   ],
   "source": [
    "dt.contents"
   ]
  },
  {
   "cell_type": "code",
   "execution_count": 87,
   "metadata": {},
   "outputs": [
    {
     "name": "stdout",
     "output_type": "stream",
     "text": [
      "noooo\n"
     ]
    }
   ],
   "source": [
    "if \"Trenutno ni na zalogi\" in dt.text:\n",
    "    print(\"noooo\")"
   ]
  },
  {
   "cell_type": "code",
   "execution_count": 23,
   "metadata": {},
   "outputs": [
    {
     "ename": "TypeError",
     "evalue": "'>' not supported between instances of 'NoneType' and 'int'",
     "output_type": "error",
     "traceback": [
      "\u001b[0;31m---------------------------------------------------------------------------\u001b[0m",
      "\u001b[0;31mTypeError\u001b[0m                                 Traceback (most recent call last)",
      "Cell \u001b[0;32mIn [23], line 31\u001b[0m\n\u001b[1;32m     29\u001b[0m containers \u001b[39m=\u001b[39m soupify\u001b[39m.\u001b[39mfind(\u001b[39m\"\u001b[39m\u001b[39mdiv\u001b[39m\u001b[39m\"\u001b[39m,{\u001b[39m\"\u001b[39m\u001b[39mclass\u001b[39m\u001b[39m\"\u001b[39m:\u001b[39m\"\u001b[39m\u001b[39mproduct-item\u001b[39m\u001b[39m\"\u001b[39m})\n\u001b[1;32m     30\u001b[0m \u001b[39m#print containers\u001b[39;00m\n\u001b[0;32m---> 31\u001b[0m \u001b[39mif\u001b[39;00m containers \u001b[39m>\u001b[39;49m \u001b[39m0\u001b[39;49m: \n\u001b[1;32m     32\u001b[0m     \u001b[39m#title\u001b[39;00m\n\u001b[1;32m     33\u001b[0m     title_container \u001b[39m=\u001b[39m containers\u001b[39m.\u001b[39mfind(\u001b[39m\"\u001b[39m\u001b[39mspan\u001b[39m\u001b[39m\"\u001b[39m, {\u001b[39m\"\u001b[39m\u001b[39mclass\u001b[39m\u001b[39m\"\u001b[39m:\u001b[39m\"\u001b[39m\u001b[39mellipsisBlock\u001b[39m\u001b[39m\"\u001b[39m})\n\u001b[1;32m     34\u001b[0m     title \u001b[39m=\u001b[39m title_container\u001b[39m.\u001b[39mtext\u001b[39m.\u001b[39mstrip()\n",
      "\u001b[0;31mTypeError\u001b[0m: '>' not supported between instances of 'NoneType' and 'int'"
     ]
    }
   ],
   "source": [
    "# -*- coding: utf-8 -*- #declared to avoid issues with eur sign in python 2.7\n",
    "import requests  # python-requests.org (pip install requests)\n",
    "from bs4 import BeautifulSoup # scraper\n",
    "import re #regex\n",
    "from datetime import datetime #allows us to add current time\n",
    "\n",
    "\n",
    "links = [\n",
    "    \"https://www.computeruniverse.net/en/c/hardware-components/sata-serial-ata-festplatten?orderby=10&specs=f_Capacity%3a1.0+TB||f_Form+factor:3.5%22\", #1 \n",
    "    \"https://www.computeruniverse.net/en/c/hardware-components/sata-serial-ata-festplatten?orderby=10&specs=f_Capacity%3a2.0+TB||f_Form+factor:3.5%22\", #2\n",
    "    \"https://www.computeruniverse.net/en/c/hardware-components/sata-serial-ata-festplatten?orderby=10&specs=f_Capacity%3a3.0+TB||f_Form+factor:3.5%22\", #3\n",
    "    \"https://www.computeruniverse.net/en/c/hardware-components/sata-serial-ata-festplatten?orderby=10&specs=f_Capacity%3a4.0+TB||f_Form+factor:3.5%22\", #4\n",
    "    \"https://www.computeruniverse.net/en/c/hardware-components/sata-serial-ata-festplatten?orderby=10&specs=f_Capacity%3a5.0+TB||f_Form+factor:3.5%22\", #5\n",
    "    \"https://www.computeruniverse.net/en/c/hardware-components/sata-serial-ata-festplatten?orderby=10&specs=f_Capacity%3a6.0+TB||f_Form+factor:3.5%22\", #6\n",
    "    \"https://www.computeruniverse.net/en/c/hardware-components/sata-serial-ata-festplatten?orderby=10&specs=f_Capacity%3a8.0+TB||f_Form+factor:3.5%22\", #8\n",
    "    \"https://www.computeruniverse.net/en/c/hardware-components/sata-serial-ata-festplatten?orderby=10&specs=f_Capacity%3a10.0+TB||f_Form+factor:3.5%22\",#10\n",
    "    \"https://www.computeruniverse.net/en/c/hardware-components/sata-serial-ata-festplatten?orderby=10&specs=f_Capacity%3a12.0+TB||f_Form+factor:3.5%22\",#12\n",
    "    \"https://www.computeruniverse.net/en/c/hardware-components/sata-serial-ata-festplatten?orderby=10&specs=f_Capacity%3a14.0+TB||f_Form+factor:3.5%22\" #14\n",
    "]\n",
    "\n",
    "sizes = [\"1\", \"2\", \"3\", \"4\", \"5\", \"6\", \"8\", \"10\", \"12\", \"14\"] #sizes in terabytes for supplied links\n",
    "\n",
    "currentDate = datetime.now().strftime('%Y-%m-%d')\n",
    "\n",
    "for link, size in zip(links, sizes): \n",
    "    getHTML = requests.get(link)\n",
    "    getHTMLr = getHTML.content # This will give you raw HTML\n",
    "    soupify = BeautifulSoup(getHTMLr, 'html.parser')\n",
    "    containers = soupify.find(\"div\",{\"class\":\"product-item\"})\n",
    "    #print containers\n",
    "    if containers > 0: \n",
    "        #title\n",
    "        title_container = containers.find(\"span\", {\"class\":\"ellipsisBlock\"})\n",
    "        title = title_container.text.strip()\n",
    "        #price\n",
    "        price_container = containers.find(\"span\", {\"class\":\"price actual-price\"})\n",
    "        price = price_container.text.replace(\" \",\"\")\n",
    "        price_strip = re.sub('[^0-9.]', '', price) #strip euro sign\n",
    "        \n",
    "        #price per TB\n",
    "        priceTB = float(price_strip[:6])/int(size) #strips only first 6 numbers from float to avoid issues\n",
    "\n",
    "        #link\n",
    "        href_container = containers.find('a',{'class':''})['href']\n",
    "        href =  \"https://www.computeruniverse.net\" + href_container\n",
    "        store = \"Computer Universe\"\n",
    "        print (title)\n",
    "        print (size + \"TB\")\n",
    "        print (price_strip + \" EUR\")\n",
    "        print (currentDate)\n",
    "        print (priceTB)\n",
    "        print (href)\n",
    "        \n",
    "        \n",
    "\n",
    "    else:\n",
    "        print (\"Size not added: \" + size + \" TB\")"
   ]
  },
  {
   "cell_type": "code",
   "execution_count": null,
   "metadata": {},
   "outputs": [],
   "source": []
  }
 ],
 "metadata": {
  "kernelspec": {
   "display_name": "Python 3.8.10 ('env': venv)",
   "language": "python",
   "name": "python3"
  },
  "language_info": {
   "codemirror_mode": {
    "name": "ipython",
    "version": 3
   },
   "file_extension": ".py",
   "mimetype": "text/x-python",
   "name": "python",
   "nbconvert_exporter": "python",
   "pygments_lexer": "ipython3",
   "version": "3.8.10"
  },
  "orig_nbformat": 4,
  "vscode": {
   "interpreter": {
    "hash": "a8977a510fa668674e7ee5e226d203bd205e608676e3342d9e05f04639840400"
   }
  }
 },
 "nbformat": 4,
 "nbformat_minor": 2
}
